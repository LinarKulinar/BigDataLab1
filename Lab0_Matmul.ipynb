{
  "nbformat": 4,
  "nbformat_minor": 0,
  "metadata": {
    "colab": {
      "name": "Lab0_Matmul.ipynb",
      "provenance": [],
      "collapsed_sections": [],
      "authorship_tag": "ABX9TyO7z36HqvXQoip5bw+NVYbT",
      "include_colab_link": true
    },
    "kernelspec": {
      "name": "python3",
      "display_name": "Python 3"
    },
    "language_info": {
      "name": "python"
    },
    "accelerator": "GPU"
  },
  "cells": [
    {
      "cell_type": "markdown",
      "metadata": {
        "id": "view-in-github",
        "colab_type": "text"
      },
      "source": [
        "<a href=\"https://colab.research.google.com/github/LinarKulinar/BigDataLab1/blob/master/Lab0_Matmul.ipynb\" target=\"_parent\"><img src=\"https://colab.research.google.com/assets/colab-badge.svg\" alt=\"Open In Colab\"/></a>"
      ]
    },
    {
      "cell_type": "markdown",
      "source": [
        "**Высокопроизводительные вычисления.**\n",
        "\n",
        "**Лабораторная 0. Сравнение времени перемножения матриц на CPU и GPU.**\n",
        "\n",
        "Самарский университет"
      ],
      "metadata": {
        "id": "pfEX_aXa6pAp"
      }
    },
    {
      "cell_type": "markdown",
      "source": [
        "В данном блокноте реализован алгоритм перемножения матриц на языке python для CPU и для GPU.\n",
        "\n",
        "Для перемножения матриц на GPU используется библиотека PyCuda.\n",
        "\n",
        "Данный код запущен в среде Google Colaboratory"
      ],
      "metadata": {
        "id": "NPt24ekZ7fKN"
      }
    },
    {
      "cell_type": "code",
      "source": [
        "! pip install pycuda"
      ],
      "metadata": {
        "colab": {
          "base_uri": "https://localhost:8080/"
        },
        "id": "eNol_F0Z69Ef",
        "outputId": "0652d49b-48f0-451c-abc1-c5ae0187f44f"
      },
      "execution_count": 1,
      "outputs": [
        {
          "output_type": "stream",
          "name": "stdout",
          "text": [
            "Collecting pycuda\n",
            "  Downloading pycuda-2021.1.tar.gz (1.7 MB)\n",
            "\u001b[K     |████████████████████████████████| 1.7 MB 4.1 MB/s \n",
            "\u001b[?25h  Installing build dependencies ... \u001b[?25l\u001b[?25hdone\n",
            "  Getting requirements to build wheel ... \u001b[?25l\u001b[?25hdone\n",
            "    Preparing wheel metadata ... \u001b[?25l\u001b[?25hdone\n",
            "Collecting mako\n",
            "  Downloading Mako-1.1.6-py2.py3-none-any.whl (75 kB)\n",
            "\u001b[K     |████████████████████████████████| 75 kB 4.3 MB/s \n",
            "\u001b[?25hRequirement already satisfied: appdirs>=1.4.0 in /usr/local/lib/python3.7/dist-packages (from pycuda) (1.4.4)\n",
            "Collecting pytools>=2011.2\n",
            "  Downloading pytools-2021.2.9.tar.gz (66 kB)\n",
            "\u001b[K     |████████████████████████████████| 66 kB 5.3 MB/s \n",
            "\u001b[?25hRequirement already satisfied: numpy>=1.6.0 in /usr/local/lib/python3.7/dist-packages (from pytools>=2011.2->pycuda) (1.19.5)\n",
            "Requirement already satisfied: MarkupSafe>=0.9.2 in /usr/local/lib/python3.7/dist-packages (from mako->pycuda) (2.0.1)\n",
            "Building wheels for collected packages: pycuda, pytools\n",
            "  Building wheel for pycuda (PEP 517) ... \u001b[?25l\u001b[?25hdone\n",
            "  Created wheel for pycuda: filename=pycuda-2021.1-cp37-cp37m-linux_x86_64.whl size=626633 sha256=ac15d59996498bf020f963e9cd4d70ee4841fb0496f11ca8acbe9f8a706a0c4f\n",
            "  Stored in directory: /root/.cache/pip/wheels/c4/ef/49/dc6a5feb8d980b37c83d465ecab24949a6aa19458522a9e001\n",
            "  Building wheel for pytools (setup.py) ... \u001b[?25l\u001b[?25hdone\n",
            "  Created wheel for pytools: filename=pytools-2021.2.9-py2.py3-none-any.whl size=62370 sha256=67a625c8820177c199174011b05c58e0fee9b01f124ff25634328f61ea5bff6d\n",
            "  Stored in directory: /root/.cache/pip/wheels/41/b9/6e/94bb014f6484b15ec77e7877f3a227609481ffd98db364504d\n",
            "Successfully built pycuda pytools\n",
            "Installing collected packages: pytools, mako, pycuda\n",
            "Successfully installed mako-1.1.6 pycuda-2021.1 pytools-2021.2.9\n"
          ]
        }
      ]
    },
    {
      "cell_type": "code",
      "source": [
        "!nvidia-smi"
      ],
      "metadata": {
        "colab": {
          "base_uri": "https://localhost:8080/"
        },
        "id": "dNwIEYzD78et",
        "outputId": "e4dccaf1-38b8-47eb-b468-c47de4108e3a"
      },
      "execution_count": 2,
      "outputs": [
        {
          "output_type": "stream",
          "name": "stdout",
          "text": [
            "Sat Jan  8 01:26:20 2022       \n",
            "+-----------------------------------------------------------------------------+\n",
            "| NVIDIA-SMI 495.44       Driver Version: 460.32.03    CUDA Version: 11.2     |\n",
            "|-------------------------------+----------------------+----------------------+\n",
            "| GPU  Name        Persistence-M| Bus-Id        Disp.A | Volatile Uncorr. ECC |\n",
            "| Fan  Temp  Perf  Pwr:Usage/Cap|         Memory-Usage | GPU-Util  Compute M. |\n",
            "|                               |                      |               MIG M. |\n",
            "|===============================+======================+======================|\n",
            "|   0  Tesla K80           Off  | 00000000:00:04.0 Off |                    0 |\n",
            "| N/A   33C    P8    29W / 149W |      0MiB / 11441MiB |      0%      Default |\n",
            "|                               |                      |                  N/A |\n",
            "+-------------------------------+----------------------+----------------------+\n",
            "                                                                               \n",
            "+-----------------------------------------------------------------------------+\n",
            "| Processes:                                                                  |\n",
            "|  GPU   GI   CI        PID   Type   Process name                  GPU Memory |\n",
            "|        ID   ID                                                   Usage      |\n",
            "|=============================================================================|\n",
            "|  No running processes found                                                 |\n",
            "+-----------------------------------------------------------------------------+\n"
          ]
        }
      ]
    },
    {
      "cell_type": "code",
      "source": [
        "!lscpu |grep 'Model name'"
      ],
      "metadata": {
        "colab": {
          "base_uri": "https://localhost:8080/"
        },
        "id": "CK94zk8D8ob8",
        "outputId": "ac6f2d35-5b6c-4e4c-8a50-a739146791c5"
      },
      "execution_count": 3,
      "outputs": [
        {
          "output_type": "stream",
          "name": "stdout",
          "text": [
            "Model name:          Intel(R) Xeon(R) CPU @ 2.30GHz\n"
          ]
        }
      ]
    },
    {
      "cell_type": "code",
      "source": [
        "import numpy as np\n",
        "np.random.seed(0) \n",
        "\n",
        "import pycuda.autoinit\n",
        "from pycuda import driver, gpuarray\n",
        "from pycuda.compiler import SourceModule\n",
        "import time"
      ],
      "metadata": {
        "id": "hHPNF72d8tGD"
      },
      "execution_count": 4,
      "outputs": []
    },
    {
      "cell_type": "code",
      "source": [
        "# multiplication functions\n",
        "\n",
        "## GPU\n",
        "mod = SourceModule(\"\"\"\n",
        "        __global__ void mult_gpu(double* A, double* B, double* C){\n",
        "                const int row =  threadIdx.y + blockIdx.y * blockDim.y;\n",
        "                const int column = threadIdx.x + blockIdx.x * blockDim.x;\n",
        "                const int N = 1024;\n",
        "                for(int i = 0; i < N; i++){\n",
        "                        C[column + row * N] += A[i + row * N] * B[column + i * N];              \n",
        "                }       \n",
        "        }\n",
        "\"\"\")\n",
        "\n",
        "## simple CPU function\n",
        "def mult_cpu(A, B):\n",
        "    C, n  = np.zeros((N, N)), range(N)\n",
        "    for i in n:\n",
        "        for j in n:\n",
        "            for k in n:\n",
        "                C[i, j] += A[i, k] * B[k, j]\n",
        "    return C"
      ],
      "metadata": {
        "colab": {
          "base_uri": "https://localhost:8080/"
        },
        "id": "uCGjA4VS80Ec",
        "outputId": "1a7e54f3-f1d5-4a90-9ac1-bd2508c8dbe7"
      },
      "execution_count": 45,
      "outputs": [
        {
          "output_type": "stream",
          "name": "stderr",
          "text": [
            "/usr/local/lib/python3.7/dist-packages/ipykernel_launcher.py:13: UserWarning: The CUDA compiler succeeded, but said the following:\n",
            "nvcc warning : The 'compute_35', 'compute_37', 'compute_50', 'sm_35', 'sm_37' and 'sm_50' architectures are deprecated, and may be removed in a future release (Use -Wno-deprecated-gpu-targets to suppress warning).\n",
            "\n",
            "  del sys.path[0]\n"
          ]
        }
      ]
    },
    {
      "cell_type": "code",
      "source": [
        "sizes = [128, 256, 512, 1024, 2048]\n",
        "N = sizes[3] # matrix size\n",
        "\n",
        "# matrix\n",
        "A, B, C_gpu= np.random.randn(N, N).astype(np.float), np.random.randn(N, N).astype(np.float), np.ones((N, N)).astype(np.float)"
      ],
      "metadata": {
        "id": "mtCgCH1rAKHq"
      },
      "execution_count": 46,
      "outputs": []
    },
    {
      "cell_type": "code",
      "source": [
        "# GPU multiplication\n",
        "\n",
        "## GPU preparing\n",
        "block_size = [2, 2]\n",
        "block, grid = (block_size[0], block_size[1], 1), (int((N + block_size[0] - 1) / 2), int((N + block_size[1] - 1) / 2))\n",
        "mult = mod.get_function(\"mult_gpu\")\n",
        "\n",
        "\n",
        "## GPU multiplication\n",
        "start_gpu = time.time()\n",
        "mult(driver.In(A), driver.In(B), driver.Out(C_gpu), block = block, grid = grid)\n",
        "driver.Context.synchronize()\n",
        "time_gpu = time.time() - start_gpu"
      ],
      "metadata": {
        "id": "l4r4qXkrAT3W"
      },
      "execution_count": 47,
      "outputs": []
    },
    {
      "cell_type": "code",
      "source": [
        "# CPU multiplication \n",
        "start_cpu = time.time()\n",
        "C_cpu = mult_cpu(A, B)\n",
        "time_cpu = time.time() - start_cpu"
      ],
      "metadata": {
        "id": "nozrO4rAAZRn"
      },
      "execution_count": null,
      "outputs": []
    },
    {
      "cell_type": "code",
      "source": [
        "# Compare results matrix\n",
        "C_gpu-C_cpu<1e-10"
      ],
      "metadata": {
        "id": "ec8PLzmnBXoV"
      },
      "execution_count": null,
      "outputs": []
    },
    {
      "cell_type": "code",
      "source": [
        "# results\n",
        "print('CPU time: ', round(time_cpu, 4))\n",
        "print('GPU time: ', round(time_gpu, 4))\n",
        "\n",
        "print('Results converge;  acceleration: ', round(time_cpu/time_gpu, 4)) if np.allclose(C_gpu, C_cpu) else print('Results do not converge')"
      ],
      "metadata": {
        "id": "0nplupsYAtbW"
      },
      "execution_count": null,
      "outputs": []
    },
    {
      "cell_type": "code",
      "source": [
        "# visualization results\n",
        "import seaborn as sns\n",
        "sns.set_theme(style=\"darkgrid\")\n",
        "import pandas as pd\n",
        "\n",
        "\n",
        "cpu_time = [1.932, 15.0544, 119.3973, 859.1499, 6723.3339]\n",
        "gpu_time = [0.0057, 0.0129, \t0.108, 0.0493, 0.326]\n",
        "acceleration = [338.5331, 1167.0078, 1105.3132, 17435.5929, 20621.3875]\n",
        "\n",
        "result= pd.DataFrame({'cpu_time': cpu_time, 'gpu_time': gpu_time, 'acceleration': acceleration, 'size': sizes})\n",
        "result = result.set_index('size')\n",
        "result.head()"
      ],
      "metadata": {
        "id": "4gePIXitTtQX"
      },
      "execution_count": null,
      "outputs": []
    },
    {
      "cell_type": "code",
      "source": [
        "# # visualization results\n",
        "# import seaborn as sns\n",
        "# sns.set_theme(style=\"darkgrid\")\n",
        "# import pandas as pd\n",
        "\n",
        "\n",
        "# cpu_time = [1.5594, 11.5251, 93.4048, 859.1499, 6723.3339]\n",
        "# gpu_time = [0.0016, 0.0032, \t0.0113, 0.0493, 0.326]\n",
        "# acceleration = [1.5594, 3599.9234, 8254.5239, 17435.5929, 20621.3875]\n",
        "\n",
        "# result= pd.DataFrame({'cpu_time': cpu_time, 'gpu_time': gpu_time, 'acceleration': acceleration, 'size': sizes})\n",
        "# result = result.set_index('size')\n",
        "# result.head()"
      ],
      "metadata": {
        "colab": {
          "base_uri": "https://localhost:8080/",
          "height": 238
        },
        "id": "d1kSVtkCAu7W",
        "outputId": "5b473943-c908-4c7f-bf04-edd77019a51e"
      },
      "execution_count": 24,
      "outputs": [
        {
          "output_type": "execute_result",
          "data": {
            "text/html": [
              "\n",
              "  <div id=\"df-2a495d0b-6728-4d03-b6e9-79b7c784567e\">\n",
              "    <div class=\"colab-df-container\">\n",
              "      <div>\n",
              "<style scoped>\n",
              "    .dataframe tbody tr th:only-of-type {\n",
              "        vertical-align: middle;\n",
              "    }\n",
              "\n",
              "    .dataframe tbody tr th {\n",
              "        vertical-align: top;\n",
              "    }\n",
              "\n",
              "    .dataframe thead th {\n",
              "        text-align: right;\n",
              "    }\n",
              "</style>\n",
              "<table border=\"1\" class=\"dataframe\">\n",
              "  <thead>\n",
              "    <tr style=\"text-align: right;\">\n",
              "      <th></th>\n",
              "      <th>cpu_time</th>\n",
              "      <th>gpu_time</th>\n",
              "      <th>acceleration</th>\n",
              "    </tr>\n",
              "    <tr>\n",
              "      <th>size</th>\n",
              "      <th></th>\n",
              "      <th></th>\n",
              "      <th></th>\n",
              "    </tr>\n",
              "  </thead>\n",
              "  <tbody>\n",
              "    <tr>\n",
              "      <th>128</th>\n",
              "      <td>1.5594</td>\n",
              "      <td>0.0016</td>\n",
              "      <td>1.5594</td>\n",
              "    </tr>\n",
              "    <tr>\n",
              "      <th>256</th>\n",
              "      <td>11.5251</td>\n",
              "      <td>0.0032</td>\n",
              "      <td>3599.9234</td>\n",
              "    </tr>\n",
              "    <tr>\n",
              "      <th>512</th>\n",
              "      <td>93.4048</td>\n",
              "      <td>0.0113</td>\n",
              "      <td>8254.5239</td>\n",
              "    </tr>\n",
              "    <tr>\n",
              "      <th>1024</th>\n",
              "      <td>859.1499</td>\n",
              "      <td>0.0493</td>\n",
              "      <td>17435.5929</td>\n",
              "    </tr>\n",
              "    <tr>\n",
              "      <th>2048</th>\n",
              "      <td>6723.3339</td>\n",
              "      <td>0.3260</td>\n",
              "      <td>20621.3875</td>\n",
              "    </tr>\n",
              "  </tbody>\n",
              "</table>\n",
              "</div>\n",
              "      <button class=\"colab-df-convert\" onclick=\"convertToInteractive('df-2a495d0b-6728-4d03-b6e9-79b7c784567e')\"\n",
              "              title=\"Convert this dataframe to an interactive table.\"\n",
              "              style=\"display:none;\">\n",
              "        \n",
              "  <svg xmlns=\"http://www.w3.org/2000/svg\" height=\"24px\"viewBox=\"0 0 24 24\"\n",
              "       width=\"24px\">\n",
              "    <path d=\"M0 0h24v24H0V0z\" fill=\"none\"/>\n",
              "    <path d=\"M18.56 5.44l.94 2.06.94-2.06 2.06-.94-2.06-.94-.94-2.06-.94 2.06-2.06.94zm-11 1L8.5 8.5l.94-2.06 2.06-.94-2.06-.94L8.5 2.5l-.94 2.06-2.06.94zm10 10l.94 2.06.94-2.06 2.06-.94-2.06-.94-.94-2.06-.94 2.06-2.06.94z\"/><path d=\"M17.41 7.96l-1.37-1.37c-.4-.4-.92-.59-1.43-.59-.52 0-1.04.2-1.43.59L10.3 9.45l-7.72 7.72c-.78.78-.78 2.05 0 2.83L4 21.41c.39.39.9.59 1.41.59.51 0 1.02-.2 1.41-.59l7.78-7.78 2.81-2.81c.8-.78.8-2.07 0-2.86zM5.41 20L4 18.59l7.72-7.72 1.47 1.35L5.41 20z\"/>\n",
              "  </svg>\n",
              "      </button>\n",
              "      \n",
              "  <style>\n",
              "    .colab-df-container {\n",
              "      display:flex;\n",
              "      flex-wrap:wrap;\n",
              "      gap: 12px;\n",
              "    }\n",
              "\n",
              "    .colab-df-convert {\n",
              "      background-color: #E8F0FE;\n",
              "      border: none;\n",
              "      border-radius: 50%;\n",
              "      cursor: pointer;\n",
              "      display: none;\n",
              "      fill: #1967D2;\n",
              "      height: 32px;\n",
              "      padding: 0 0 0 0;\n",
              "      width: 32px;\n",
              "    }\n",
              "\n",
              "    .colab-df-convert:hover {\n",
              "      background-color: #E2EBFA;\n",
              "      box-shadow: 0px 1px 2px rgba(60, 64, 67, 0.3), 0px 1px 3px 1px rgba(60, 64, 67, 0.15);\n",
              "      fill: #174EA6;\n",
              "    }\n",
              "\n",
              "    [theme=dark] .colab-df-convert {\n",
              "      background-color: #3B4455;\n",
              "      fill: #D2E3FC;\n",
              "    }\n",
              "\n",
              "    [theme=dark] .colab-df-convert:hover {\n",
              "      background-color: #434B5C;\n",
              "      box-shadow: 0px 1px 3px 1px rgba(0, 0, 0, 0.15);\n",
              "      filter: drop-shadow(0px 1px 2px rgba(0, 0, 0, 0.3));\n",
              "      fill: #FFFFFF;\n",
              "    }\n",
              "  </style>\n",
              "\n",
              "      <script>\n",
              "        const buttonEl =\n",
              "          document.querySelector('#df-2a495d0b-6728-4d03-b6e9-79b7c784567e button.colab-df-convert');\n",
              "        buttonEl.style.display =\n",
              "          google.colab.kernel.accessAllowed ? 'block' : 'none';\n",
              "\n",
              "        async function convertToInteractive(key) {\n",
              "          const element = document.querySelector('#df-2a495d0b-6728-4d03-b6e9-79b7c784567e');\n",
              "          const dataTable =\n",
              "            await google.colab.kernel.invokeFunction('convertToInteractive',\n",
              "                                                     [key], {});\n",
              "          if (!dataTable) return;\n",
              "\n",
              "          const docLinkHtml = 'Like what you see? Visit the ' +\n",
              "            '<a target=\"_blank\" href=https://colab.research.google.com/notebooks/data_table.ipynb>data table notebook</a>'\n",
              "            + ' to learn more about interactive tables.';\n",
              "          element.innerHTML = '';\n",
              "          dataTable['output_type'] = 'display_data';\n",
              "          await google.colab.output.renderOutput(dataTable, element);\n",
              "          const docLink = document.createElement('div');\n",
              "          docLink.innerHTML = docLinkHtml;\n",
              "          element.appendChild(docLink);\n",
              "        }\n",
              "      </script>\n",
              "    </div>\n",
              "  </div>\n",
              "  "
            ],
            "text/plain": [
              "       cpu_time  gpu_time  acceleration\n",
              "size                                   \n",
              "128      1.5594    0.0016        1.5594\n",
              "256     11.5251    0.0032     3599.9234\n",
              "512     93.4048    0.0113     8254.5239\n",
              "1024   859.1499    0.0493    17435.5929\n",
              "2048  6723.3339    0.3260    20621.3875"
            ]
          },
          "metadata": {},
          "execution_count": 24
        }
      ]
    },
    {
      "cell_type": "code",
      "source": [
        "sns.lineplot(x=\"size\", y=\"cpu_time\", data=result, color='r')"
      ],
      "metadata": {
        "colab": {
          "base_uri": "https://localhost:8080/",
          "height": 304
        },
        "id": "BJynuC7kSsBE",
        "outputId": "621c237a-6ae9-41d3-9ed2-439f7a50e66d"
      },
      "execution_count": 13,
      "outputs": [
        {
          "output_type": "execute_result",
          "data": {
            "text/plain": [
              "<matplotlib.axes._subplots.AxesSubplot at 0x7fb0436d2c50>"
            ]
          },
          "metadata": {},
          "execution_count": 13
        },
        {
          "output_type": "display_data",
          "data": {
            "image/png": "[encoded data removed]",
            "text/plain": [
              "<Figure size 432x288 with 1 Axes>"
            ]
          },
          "metadata": {}
        }
      ]
    },
    {
      "cell_type": "code",
      "source": [
        "sns.lineplot(x=\"size\", y=\"gpu_time\", data=result, color='g')"
      ],
      "metadata": {
        "colab": {
          "base_uri": "https://localhost:8080/",
          "height": 302
        },
        "id": "yUHg4QufSvTD",
        "outputId": "6979bcfe-3173-42cc-8250-2604eaf4aae8"
      },
      "execution_count": 14,
      "outputs": [
        {
          "output_type": "execute_result",
          "data": {
            "text/plain": [
              "<matplotlib.axes._subplots.AxesSubplot at 0x7fb0436e19d0>"
            ]
          },
          "metadata": {},
          "execution_count": 14
        },
        {
          "output_type": "display_data",
          "data": {
            "image/png": "[encoded data removed]",
            "text/plain": [
              "<Figure size 432x288 with 1 Axes>"
            ]
          },
          "metadata": {}
        }
      ]
    },
    {
      "cell_type": "code",
      "source": [
        "sns.lineplot(x=\"size\", y=\"acceleration\", data=result, color='b')"
      ],
      "metadata": {
        "colab": {
          "base_uri": "https://localhost:8080/",
          "height": 302
        },
        "id": "Cw2ZW2R-SxiK",
        "outputId": "2a5aa2f0-9db1-4f8a-e901-2a426a905af7"
      },
      "execution_count": 15,
      "outputs": [
        {
          "output_type": "execute_result",
          "data": {
            "text/plain": [
              "<matplotlib.axes._subplots.AxesSubplot at 0x7fb01be3c290>"
            ]
          },
          "metadata": {},
          "execution_count": 15
        },
        {
          "output_type": "display_data",
          "data": {
            "image/png": "[encoded data removed]",
            "text/plain": [
              "<Figure size 432x288 with 1 Axes>"
            ]
          },
          "metadata": {}
        }
      ]
    },
    {
      "cell_type": "code",
      "source": [
        ""
      ],
      "metadata": {
        "id": "leG14ANETFPk"
      },
      "execution_count": null,
      "outputs": []
    }
  ]
}